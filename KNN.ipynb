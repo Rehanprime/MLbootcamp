{
  "nbformat": 4,
  "nbformat_minor": 0,
  "metadata": {
    "colab": {
      "name": "KNN.ipynb",
      "provenance": [],
      "collapsed_sections": []
    },
    "kernelspec": {
      "name": "python3",
      "display_name": "Python 3"
    },
    "language_info": {
      "name": "python"
    }
  },
  "cells": [
    {
      "cell_type": "code",
      "metadata": {
        "id": "80OOjpacxLT0"
      },
      "source": [
        "import numpy as np\n",
        "import pandas as pd\n",
        "import matplotlib.pyplot as plt #importing all necessary libraries\n",
        "import math as mt\n"
      ],
      "execution_count": null,
      "outputs": []
    },
    {
      "cell_type": "code",
      "metadata": {
        "id": "8NM1d__j6J5b"
      },
      "source": [
        "train_data=pd.read_csv(\"sample_data/mnist_train_small.csv\") #importing train data\n",
        "test_data=pd.read_csv(\"sample_data/mnist_test.csv\") #importing test data"
      ],
      "execution_count": null,
      "outputs": []
    },
    {
      "cell_type": "code",
      "metadata": {
        "id": "psw8MYu96NeW"
      },
      "source": [
        "a=np.array(train_data)\n",
        "b=np.array(test_data)  #converting datasets to array\n",
        "x_train=a[0:,1:] #seperating the x values\n",
        "x_test=b[0:,1:]\n"
      ],
      "execution_count": null,
      "outputs": []
    },
    {
      "cell_type": "code",
      "metadata": {
        "id": "dk9ilo2w6PJW"
      },
      "source": [
        "#Here we define a function which will calculate euclidian distance of each of the test sample with every sample in the training set\n",
        "#A dictionary of distance containing distances as key and corresponding label as value is returned\n",
        "def euclid_distance(x_train,x_test,index):\n",
        "  distance={}\n",
        "  yy=a[0:,[0]]\n",
        "  for i in range(19999):\n",
        "    distance[(np.sum((x_test[index]-x_train[i])**2))]=yy[i,0]\n",
        "  return distance"
      ],
      "execution_count": null,
      "outputs": []
    },
    {
      "cell_type": "code",
      "metadata": {
        "id": "_EvWZSEt7s1S"
      },
      "source": [
        "#The main prediction function:we take training samples,test samples,K as input\n",
        "def prediction(x_train,x_test,K):\n",
        "  predict=np.zeros((9999,1))    \n",
        "  for h in range(9999):   #for every test sample we calculate euclidean distance\n",
        "    distance=euclid_distance(x_train,x_test,h)  \n",
        "    z=[]\n",
        "    for i in distance.keys():\n",
        "      z.append(i)           #for every test sample the distances are stored in a list\n",
        "    z.sort()\n",
        "    e=[]\n",
        "    for j in range(0,K):\n",
        "      e.append(distance[z[j]])    \n",
        "    val=max(e,key=e.count)                    \n",
        "    predict[h,0]=val    #here we predict the output as that label which has maximum occurence among K nearest neighbours\n",
        "  return predict "
      ],
      "execution_count": null,
      "outputs": []
    },
    {
      "cell_type": "code",
      "metadata": {
        "id": "x6ojoNr3HRCX"
      },
      "source": [
        "r=prediction(x_train,x_test,50) #Getting a matrix of predicted values"
      ],
      "execution_count": null,
      "outputs": []
    },
    {
      "cell_type": "code",
      "metadata": {
        "colab": {
          "base_uri": "https://localhost:8080/"
        },
        "id": "fygvfL14HiFN",
        "outputId": "777bde82-cf93-46c2-98e5-978334858ac6"
      },
      "source": [
        "print(\"Predicted value \",\"Actual value\")   \n",
        "for i in range(20,50):\n",
        "  print(int(r[i,0]),b[0:,[0]][i,0])"
      ],
      "execution_count": null,
      "outputs": [
        {
          "output_type": "stream",
          "text": [
            "Predicted value  Actual value\n",
            "6 6\n",
            "6 6\n",
            "5 5\n",
            "4 4\n",
            "0 0\n",
            "7 7\n",
            "4 4\n",
            "0 0\n",
            "1 1\n",
            "3 3\n",
            "1 1\n",
            "3 3\n",
            "6 4\n",
            "7 7\n",
            "2 2\n",
            "7 7\n",
            "1 1\n",
            "1 2\n",
            "1 1\n",
            "1 1\n",
            "7 7\n",
            "4 4\n",
            "1 2\n",
            "3 3\n",
            "5 5\n",
            "1 1\n",
            "2 2\n",
            "4 4\n",
            "4 4\n",
            "6 6\n"
          ],
          "name": "stdout"
        }
      ]
    },
    {
      "cell_type": "code",
      "metadata": {
        "colab": {
          "base_uri": "https://localhost:8080/"
        },
        "id": "mqKt3iaRJcf7",
        "outputId": "199b6f7d-16dd-47b1-f0e5-1e301e43a4f3"
      },
      "source": [
        "        #Calculating accuracy of our model\n",
        "count=0 #keeping a count of errors\n",
        "for i in range(9999):\n",
        " if(int(r[i,0]!=b[0:,[0]][i,0])):\n",
        "   count+=1 \n",
        "accuracy=((9999-count)/9999)*100   \n",
        "print(\"The accuracy of the model is: \",accuracy,\" %\")"
      ],
      "execution_count": null,
      "outputs": [
        {
          "output_type": "stream",
          "text": [
            "The accuracy of the model is:  93.56935693569358  %\n"
          ],
          "name": "stdout"
        }
      ]
    }
  ]
}