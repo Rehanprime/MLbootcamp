{
  "nbformat": 4,
  "nbformat_minor": 0,
  "metadata": {
    "colab": {
      "name": "Neural_network.ipynb",
      "provenance": [],
      "collapsed_sections": []
    },
    "kernelspec": {
      "display_name": "Python 3",
      "name": "python3"
    },
    "language_info": {
      "name": "python"
    }
  },
  "cells": [
    {
      "cell_type": "code",
      "metadata": {
        "id": "bZEgbYpnOtEf"
      },
      "source": [
        "import numpy as np\n",
        "import pandas as pd #importing all the necessary libraries\n",
        "import matplotlib.pyplot as plt\n",
        "import math as mt"
      ],
      "execution_count": 1,
      "outputs": []
    },
    {
      "cell_type": "code",
      "metadata": {
        "id": "ID7oSXA0O1zN"
      },
      "source": [
        "train_data=pd.read_csv(\"sample_data/mnist_train_small.csv\") #importing train data\n",
        "test_data=pd.read_csv(\"sample_data/mnist_test.csv\") #importing test data"
      ],
      "execution_count": 2,
      "outputs": []
    },
    {
      "cell_type": "code",
      "metadata": {
        "id": "EqdasTzPPkih"
      },
      "source": [
        "a=np.array(train_data)\n",
        "b=np.array(test_data) #creating array of training and test data\n",
        "y_test=b[0:,[0]]"
      ],
      "execution_count": 3,
      "outputs": []
    },
    {
      "cell_type": "code",
      "metadata": {
        "id": "K12NJqzUQaf1"
      },
      "source": [
        "#Creating array of train x\n",
        "x_train=a[0:,1:]\n",
        "x=np.zeros((10,19999,784))\n",
        "for i in range(10):\n",
        "  x[i]=x_train\n",
        "#Creating a label array of training data where first index represents the probability of that class\n",
        "y_train=a[0:,[0]]\n",
        "y=np.zeros((10,19999,1))\n",
        "for i in range(10):\n",
        "  for j in range(19999):\n",
        "    if (y_train[j,0]==i):\n",
        "      y[i,j,0]=1\n",
        "    else:\n",
        "      y[i,j,0]=0\n",
        "#Initialising random weights theta1 and theta2 to be used in our neural network\n",
        "np.random.seed(12)\n",
        "theta1=(np.random.rand(10,784,784))*0.01\n",
        " \n",
        "theta2=np.random.rand(10,784,1)*0.01\n",
        " "
      ],
      "execution_count": 6,
      "outputs": []
    },
    {
      "cell_type": "code",
      "metadata": {
        "id": "lZc2jSWk8KnG"
      },
      "source": [
        "#The main function where neural network is implemented\n",
        "error=[]\n",
        "it=[]\n",
        "def neural_network(x,y,theta1,theta2,alpha,iterations):\n",
        "\n",
        "  z3=0\n",
        "  for j in range(iterations):\n",
        "    \n",
        "    #feedforward\n",
        "    z2=np.matmul(theta1,x.transpose(0,2,1))\n",
        "    a2=1/(1+np.exp(-z2))\n",
        "    \n",
        "    z3=np.matmul(a2.transpose(0,2,1),theta2)\n",
        "    a3=1/(1+np.exp(-z3))\n",
        "   \n",
        "    #Backpropogation\n",
        "    delta3=a3-y\n",
        "    print(\"error after \",j,\" iterations:\" ,abs(np.sum(delta3)))\n",
        "    error.append(np.sum(delta3))\n",
        "    it.append(j)\n",
        "    delta2=theta1*np.matmul(delta3.transpose(0,2,1),(a2*(1-a2)).transpose(0,2,1))\n",
        "    theta1=theta1-alpha*delta2\n",
        "    theta2=theta2-alpha*np.matmul(a2,delta3)\n",
        "    \n",
        "  return(theta1,theta2)"
      ],
      "execution_count": 8,
      "outputs": []
    },
    {
      "cell_type": "code",
      "metadata": {
        "colab": {
          "base_uri": "https://localhost:8080/"
        },
        "id": "ldpuoT1-M7Hx",
        "outputId": "9d2fa5cf-b60b-4d43-db7e-0cd27ff0c909"
      },
      "source": [
        "#Using the model to get values of weights\n",
        "theta1,theta2=neural_network(x,y,theta1,theta2,0.0000002,20)"
      ],
      "execution_count": 9,
      "outputs": [
        {
          "output_type": "stream",
          "text": [
            "error after  0  iterations: 176064.24383578627\n",
            "error after  1  iterations: 131951.19746008317\n",
            "error after  2  iterations: 37174.92378397797\n",
            "error after  3  iterations: 16530.84347769718\n",
            "error after  4  iterations: 9419.800662464371\n",
            "error after  5  iterations: 5907.174228672444\n",
            "error after  6  iterations: 3892.8047532098194\n",
            "error after  7  iterations: 2641.5826197235856\n",
            "error after  8  iterations: 1826.18832658404\n",
            "error after  9  iterations: 1278.2200191963766\n",
            "error after  10  iterations: 902.3313623781777\n",
            "error after  11  iterations: 640.8226094300342\n",
            "error after  12  iterations: 457.0805683139467\n",
            "error after  13  iterations: 327.0645955312219\n",
            "error after  14  iterations: 234.59312072370386\n",
            "error after  15  iterations: 168.57613657575635\n",
            "error after  16  iterations: 121.31232699807542\n",
            "error after  17  iterations: 87.40172452391\n",
            "error after  18  iterations: 63.030995410623575\n",
            "error after  19  iterations: 45.4930254107798\n"
          ],
          "name": "stdout"
        }
      ]
    },
    {
      "cell_type": "code",
      "metadata": {
        "colab": {
          "base_uri": "https://localhost:8080/"
        },
        "id": "8Tat3wFjpus5",
        "outputId": "5b735e48-0743-4585-a8e8-3101de1a0357"
      },
      "source": [
        "z3_pred=0\n",
        "x_test=b[0:,1:]\n",
        "x_pred=np.zeros((10,9999,784))\n",
        "count=0\n",
        "for i in range(10):\n",
        "  x_pred[i]=x_test\n",
        "for i in range(9999):\n",
        "  d=[]\n",
        "  z2_pred=np.matmul(theta1,x_pred[0:,[i]].transpose(0,2,1))\n",
        "  a2_pred=1/(1+np.exp(-z2_pred))\n",
        "  z3_pred=np.matmul(a2_pred.transpose(0,2,1),theta2)\n",
        "  a3_pred=1/(1+np.exp(-z3_pred))\n",
        "  d=[]\n",
        "  for k in range(10):\n",
        "    d.append(a3_pred[k][0][0])\n",
        "  \n",
        "  if(d.index(np.max(d))==y_test[i,0]):\n",
        "    count+=1\n",
        "print(\"Accuracy is:\",(count*100/9999))"
      ],
      "execution_count": 11,
      "outputs": [
        {
          "output_type": "stream",
          "text": [
            "Accuracy is: 11.35113511351135\n"
          ],
          "name": "stdout"
        }
      ]
    },
    {
      "cell_type": "code",
      "metadata": {
        "id": "fq10HJoVxsFI"
      },
      "source": [
        "plt.plot(it,error)"
      ],
      "execution_count": null,
      "outputs": []
    }
  ]
}