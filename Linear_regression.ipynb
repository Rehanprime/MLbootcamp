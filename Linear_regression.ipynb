{
  "nbformat": 4,
  "nbformat_minor": 0,
  "metadata": {
    "colab": {
      "name": "Linear_regression.ipynb",
      "provenance": []
    },
    "kernelspec": {
      "name": "python3",
      "display_name": "Python 3"
    },
    "language_info": {
      "name": "python"
    }
  },
  "cells": [
    {
      "cell_type": "code",
      "metadata": {
        "id": "GEs0oLfWmnVX"
      },
      "source": [
        "import numpy as np\n",
        "import pandas as pd\n",
        "import matplotlib.pyplot as plt     #importing all the necessary libraries\n"
      ],
      "execution_count": 1,
      "outputs": []
    },
    {
      "cell_type": "code",
      "metadata": {
        "id": "qAtF5HLUmrU6"
      },
      "source": [
        "train_data=pd.read_csv(\"sample_data/mnist_train_small.csv\") #importing the training dataset\n",
        "test_data=pd.read_csv(\"sample_data/mnist_test.csv\")  #importing the test dataset"
      ],
      "execution_count": 2,
      "outputs": []
    },
    {
      "cell_type": "code",
      "metadata": {
        "id": "N9VT42BRmvwb"
      },
      "source": [
        "a=np.array(train_data) #creating array of the dataset"
      ],
      "execution_count": 3,
      "outputs": []
    },
    {
      "cell_type": "code",
      "metadata": {
        "id": "HORwxcaxBqwL"
      },
      "source": [
        "y=a[:,[0]] #creating a matrix of label data"
      ],
      "execution_count": 4,
      "outputs": []
    },
    {
      "cell_type": "code",
      "metadata": {
        "id": "zEa8_ZrJB4bJ"
      },
      "source": [
        "x=a[:,1:785] #creating a matrix array of variable inputs\n"
      ],
      "execution_count": 5,
      "outputs": []
    },
    {
      "cell_type": "code",
      "metadata": {
        "id": "aYRY_rOtkmUV"
      },
      "source": [
        "theta=np.zeros((784,1))   #generating a theta matrix"
      ],
      "execution_count": 6,
      "outputs": []
    },
    {
      "cell_type": "code",
      "metadata": {
        "id": "BOuSy5T-pHnv"
      },
      "source": [
        "cost_count=[]   # a list which keeps track of cost after each iteration\n",
        "iteration_count=[] # a list keeping track of number of iterations\n",
        "\n",
        "\n",
        "#the main function of the model:here the the values x and y are provided as arguments.\n",
        "#alpha=learning rate of the algorithm\n",
        "#theta=value of theta to be optimized using gradient descent\n",
        "#iterations=number of iterations\n",
        "#m=number of training samples\n",
        "def linear_regression(x,y,theta,alpha,iterations,m):   \n",
        "  \n",
        "  thetax=np.dot(x,theta)\n",
        "  \n",
        "  for i in range(0,iterations):\n",
        "    \n",
        "    theta=theta-(alpha/m)*(np.transpose(np.dot(np.transpose(np.subtract(thetax,y)),x))) #----gradient descent\n",
        "    thetax=np.dot(x,theta) #calculating theta*x\n",
        "    \n",
        "    j=(1/(2*m))*(np.sum(np.subtract(thetax,y)**2)) #cost(mean squared error) at each iteration\n",
        "    cost_count.append(j)  \n",
        "    iteration_count.append(i)\n",
        "    if(i%1000==0):\n",
        "      print(\"cost after \",i,\" iterations:\",j) \n",
        "  return(theta)"
      ],
      "execution_count": 7,
      "outputs": []
    },
    {
      "cell_type": "code",
      "metadata": {
        "colab": {
          "base_uri": "https://localhost:8080/"
        },
        "id": "AIRUuDLG_y_I",
        "outputId": "ae2ed6a0-e304-4f38-b70a-2fef12332321"
      },
      "source": [
        "theta=linear_regression(x,y,theta,0.0000006,10000,20000) #setting optimum value of theta using model"
      ],
      "execution_count": 8,
      "outputs": [
        {
          "output_type": "stream",
          "text": [
            "cost after  0  iterations: 6.349874359874928\n",
            "cost after  1000  iterations: 1.8928397289204248\n",
            "cost after  2000  iterations: 1.8585334466717351\n",
            "cost after  3000  iterations: 1.846011673358829\n",
            "cost after  4000  iterations: 1.8395598521701042\n",
            "cost after  5000  iterations: 1.8355440526985214\n",
            "cost after  6000  iterations: 1.8327340588971646\n",
            "cost after  7000  iterations: 1.830612794804204\n",
            "cost after  8000  iterations: 1.8289273782205082\n",
            "cost after  9000  iterations: 1.8275392414891707\n"
          ],
          "name": "stdout"
        }
      ]
    },
    {
      "cell_type": "code",
      "metadata": {
        "id": "5jIMKRbJq_Fs",
        "colab": {
          "base_uri": "https://localhost:8080/",
          "height": 297
        },
        "outputId": "811ee7c7-d5ca-4c40-dc28-eec3fbbff23e"
      },
      "source": [
        "plt.plot(iteration_count,cost_count) #A plot of cost vs No of iterations to check the working of model(the cost is decreasing with each iteration)\n",
        "plt.xlabel(\"No. of iterations\")\n",
        "plt.ylabel(\"Cost\")\n"
      ],
      "execution_count": 9,
      "outputs": [
        {
          "output_type": "execute_result",
          "data": {
            "text/plain": [
              "Text(0, 0.5, 'Cost')"
            ]
          },
          "metadata": {
            "tags": []
          },
          "execution_count": 9
        },
        {
          "output_type": "display_data",
          "data": {
            "image/png": "[encoded data removed]",
            "text/plain": [
              "<Figure size 432x288 with 1 Axes>"
            ]
          },
          "metadata": {
            "tags": [],
            "needs_background": "light"
          }
        }
      ]
    },
    {
      "cell_type": "code",
      "metadata": {
        "id": "VIC0BXMOE176"
      },
      "source": [
        "test=np.array(test_data) #making array of test data"
      ],
      "execution_count": 10,
      "outputs": []
    },
    {
      "cell_type": "code",
      "metadata": {
        "id": "u4v_qFR3Z_7d",
        "colab": {
          "base_uri": "https://localhost:8080/"
        },
        "outputId": "ae5bd45f-8873-4df1-a5f5-a4a297de0a13"
      },
      "source": [
        "test_y=test[:,[0]] #actual label data\n",
        "test_y.shape"
      ],
      "execution_count": 11,
      "outputs": [
        {
          "output_type": "execute_result",
          "data": {
            "text/plain": [
              "(9999, 1)"
            ]
          },
          "metadata": {
            "tags": []
          },
          "execution_count": 11
        }
      ]
    },
    {
      "cell_type": "code",
      "metadata": {
        "id": "Rumce3plaYc0"
      },
      "source": [
        "test_x=test[:,1:785] "
      ],
      "execution_count": 12,
      "outputs": []
    },
    {
      "cell_type": "code",
      "metadata": {
        "id": "KswQSC-9ag1_"
      },
      "source": [
        "predict=np.transpose(np.dot(np.transpose(theta),np.transpose(test_x))) #predicted labels using the predicted value of theta\n",
        "for i in range(9999):\n",
        "  predict[i,0]=round(predict[i,0]) #Since output is only ever a discrete value between 0 to 9 so we round off our predicted result"
      ],
      "execution_count": 16,
      "outputs": []
    },
    {
      "cell_type": "code",
      "metadata": {
        "colab": {
          "base_uri": "https://localhost:8080/"
        },
        "id": "VZpLJd5qa9i0",
        "outputId": "ed6c1674-c3d3-4f13-dfb3-bf01445cd9c4"
      },
      "source": [
        "print(\"Actual value\",\"Predicted value\")\n",
        "for i in range(10):\n",
        "  print(test_y[i,0],int(predict[i,0])) #printed some of the actual values,\n",
        "\n",
        "                    #Calculating accuracy\n",
        "count=0 #keeping count of number of values that does not match\n",
        "for i in range(9999):\n",
        "   if(int(predict[i,0])!=test_y[i,0]):\n",
        "    count+=1     #testing the model on test dataset using the predicted values of theta\n",
        "accuracy=((10000-count)/10000)*100\n",
        "print(\"Accuracy of the linear regression is:\",accuracy,\"%\")"
      ],
      "execution_count": 27,
      "outputs": [
        {
          "output_type": "stream",
          "text": [
            "Actual value Predicted value\n",
            "2 2\n",
            "1 1\n",
            "0 1\n",
            "4 3\n",
            "1 1\n",
            "4 6\n",
            "9 6\n",
            "5 4\n",
            "9 9\n",
            "0 0\n",
            "Accuracy of the linear regression is: 23.990000000000002 %\n"
          ],
          "name": "stdout"
        }
      ]
    }
  ]
}