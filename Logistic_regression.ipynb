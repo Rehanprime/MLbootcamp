{
  "nbformat": 4,
  "nbformat_minor": 0,
  "metadata": {
    "colab": {
      "name": "Logistic_regression.ipynb",
      "provenance": [],
      "collapsed_sections": []
    },
    "kernelspec": {
      "name": "python3",
      "display_name": "Python 3"
    },
    "language_info": {
      "name": "python"
    }
  },
  "cells": [
    {
      "cell_type": "code",
      "metadata": {
        "id": "HWzqJyP42htf"
      },
      "source": [
        "import numpy as np\n",
        "import pandas as pd\n",
        "import matplotlib.pyplot as plt #importing all necessary libraries\n",
        "import math as mt\n"
      ],
      "execution_count": 18,
      "outputs": []
    },
    {
      "cell_type": "code",
      "metadata": {
        "id": "VTwcQkmm2oQ4"
      },
      "source": [
        "train_data=pd.read_csv(\"sample_data/mnist_train_small.csv\") #importing train data\n",
        "test_data=pd.read_csv(\"sample_data/mnist_test.csv\") #importing test data"
      ],
      "execution_count": 19,
      "outputs": []
    },
    {
      "cell_type": "code",
      "metadata": {
        "id": "xBTCkh1e25Bs"
      },
      "source": [
        "a=np.array(train_data)\n",
        "b=np.array(test_data)  #converting datasets to array"
      ],
      "execution_count": 20,
      "outputs": []
    },
    {
      "cell_type": "code",
      "metadata": {
        "id": "7dv29GdC29C0"
      },
      "source": [
        "#extracting the label data from train data\n",
        "y=a[0:,[0]]\n",
        "y0=a[0:,[0]]\n",
        "y1=a[0:,[0]]\n",
        "y2=a[0:,[0]]\n",
        "y3=a[0:,[0]]\n",
        "y4=a[0:,[0]]\n",
        "y5=a[0:,[0]]\n",
        "y6=a[0:,[0]]\n",
        "y7=a[0:,[0]]\n",
        "y8=a[0:,[0]]\n",
        "y9=a[0:,[0]]"
      ],
      "execution_count": 21,
      "outputs": []
    },
    {
      "cell_type": "code",
      "metadata": {
        "id": "E701E0ND4OHD"
      },
      "source": [
        "x=a[0:,1:] #extracting x from the training dataset\n",
        "y_test=b[0:,[0]] #extracting output data from test data"
      ],
      "execution_count": 22,
      "outputs": []
    },
    {
      "cell_type": "code",
      "metadata": {
        "id": "Xz3oivOd4wc2"
      },
      "source": [
        "#Here we modify each output data matrix with respect to values [0,9]\n",
        "#For example in y0 the values where the output 0 is taken as positive class(ie assigned the value 1) and all others as negative class (assigned as zero)\n",
        "for i in range(19999):\n",
        "  if y[i,0]==0:\n",
        "    y0[i,0]=1\n",
        "  else:\n",
        "    y0[i,0]=0   \n",
        "\n",
        "for i in range(19999):\n",
        "  if y[i,0]==1:\n",
        "    y1[i,0]=1\n",
        "  else:\n",
        "    y1[i,0]=0\n",
        "\n",
        "for i in range(19999):\n",
        "  if y[i,0]==2:\n",
        "    y2[i,0]=1\n",
        "  else:\n",
        "    y2[i,0]=0\n",
        "for i in range(19999):\n",
        "  if y[i,0]==3:\n",
        "    y3[i,0]=1\n",
        "  else:\n",
        "    y3[i,0]=0\n",
        "\n",
        "for i in range(19999):\n",
        "  if y[i,0]==4:\n",
        "    y4[i,0]=1\n",
        "  else:\n",
        "    y4[i,0]=0\n",
        "\n",
        "for i in range(19999):\n",
        "  if y[i,0]==5:\n",
        "    y5[i,0]=1\n",
        "  else:\n",
        "    y5[i,0]=0\n",
        "\n",
        "for i in range(19999):\n",
        "  if y[i,0]==6:\n",
        "    y6[i,0]=1\n",
        "  else:\n",
        "    y6[i,0]=0\n",
        "\n",
        "for i in range(19999):\n",
        "  if y[i,0]==7:\n",
        "    y7[i,0]=1\n",
        "  else:\n",
        "    y7[i,0]=0\n",
        "\n",
        "for i in range(19999):\n",
        "  if y[i,0]==8:\n",
        "    y8[i,0]=1\n",
        "  else:\n",
        "    y8[i,0]=0\n",
        "for i in range(19999):\n",
        "  if y[i,0]==9:\n",
        "    y9[i,0]=1\n",
        "  else:\n",
        "    y9[i,0]=0"
      ],
      "execution_count": 24,
      "outputs": []
    },
    {
      "cell_type": "code",
      "metadata": {
        "id": "UdxmMW0K-RF9"
      },
      "source": [
        "def logistic_regression(x,y0,y1,y2,y3,y4,y5,y6,y7,y8,y9,alpha,iterations,m):\n",
        "  #here we create theta matrix for each class(0 to 9)\n",
        "  theta0=np.zeros((784,1))\n",
        "  theta1=np.zeros((784,1))\n",
        "  theta2=np.zeros((784,1))\n",
        "  theta3=np.zeros((784,1))\n",
        "  theta4=np.zeros((784,1))\n",
        "  theta5=np.zeros((784,1))\n",
        "  theta6=np.zeros((784,1))\n",
        "  theta7=np.zeros((784,1))\n",
        "  theta8=np.zeros((784,1))\n",
        "  theta9=np.zeros((784,1))\n",
        "  for i in range(iterations):\n",
        "    theta0=theta0-(alpha/m)*np.transpose(np.dot(np.transpose(np.dot(x,theta0)-y0),x))\n",
        "    theta1=theta1-(alpha/m)*np.transpose(np.dot(np.transpose(np.dot(x,theta1)-y1),x))\n",
        "    theta2=theta2-(alpha/m)*np.transpose(np.dot(np.transpose(np.dot(x,theta2)-y2),x))\n",
        "    theta3=theta3-(alpha/m)*np.transpose(np.dot(np.transpose(np.dot(x,theta3)-y3),x))\n",
        "    theta4=theta4-(alpha/m)*np.transpose(np.dot(np.transpose(np.dot(x,theta4)-y4),x))\n",
        "    theta5=theta5-(alpha/m)*np.transpose(np.dot(np.transpose(np.dot(x,theta5)-y5),x))\n",
        "    theta6=theta6-(alpha/m)*np.transpose(np.dot(np.transpose(np.dot(x,theta6)-y6),x))\n",
        "    theta7=theta7-(alpha/m)*np.transpose(np.dot(np.transpose(np.dot(x,theta7)-y7),x))\n",
        "    theta8=theta8-(alpha/m)*np.transpose(np.dot(np.transpose(np.dot(x,theta8)-y8),x))\n",
        "    theta9=theta9-(alpha/m)*np.transpose(np.dot(np.transpose(np.dot(x,theta9)-y9),x))\n",
        "  return theta0,theta1,theta2,theta3,theta4,theta5,theta6,theta7,theta8,theta9  "
      ],
      "execution_count": 26,
      "outputs": []
    },
    {
      "cell_type": "code",
      "metadata": {
        "id": "zSRaCJVn_KGt"
      },
      "source": [
        "#calling the logistic regression function and assigning the values of all theta's using our model\n",
        "theta0,theta1,theta2,theta3,theta4,theta5,theta6,theta7,theta8,theta9 =logistic_regression(x,y0,y1,y2,y3,y4,y5,y6,y7,y8,y9,0.00000007,5000,20000)\n",
        "x_test=b[0:,1:]\n",
        "h0=1/(1+np.exp(-(np.dot(x_test,theta0)))) #calculating the sigmoid function with respect to each class\n",
        "h1=1/(1+np.exp(-(np.dot(x_test,theta1))))\n",
        "h2=1/(1+np.exp(-(np.dot(x_test,theta2))))\n",
        "h3=1/(1+np.exp(-(np.dot(x_test,theta3))))\n",
        "h4=1/(1+np.exp(-(np.dot(x_test,theta4))))\n",
        "h5=1/(1+np.exp(-(np.dot(x_test,theta5))))\n",
        "h6=1/(1+np.exp(-(np.dot(x_test,theta6))))\n",
        "h7=1/(1+np.exp(-(np.dot(x_test,theta7))))\n",
        "h8=1/(1+np.exp(-(np.dot(x_test,theta8))))\n",
        "h9=1/(1+np.exp(-(np.dot(x_test,theta9))))"
      ],
      "execution_count": 27,
      "outputs": []
    },
    {
      "cell_type": "code",
      "metadata": {
        "id": "ycaPgRh2And4"
      },
      "source": [
        "#creating zeros array of prediction\n",
        "predict=np.zeros((9999,1))\n"
      ],
      "execution_count": 28,
      "outputs": []
    },
    {
      "cell_type": "code",
      "metadata": {
        "id": "Gd-azNjeQBP5"
      },
      "source": [
        "#Now among the values of all sigmoid function the output will be that class which has maximum probability among all classes \n",
        "#So using max function we get the most probable class for each input\n",
        "for i in range(9999):\n",
        "  if (max(h0[i,0],h1[i,0],h2[i,0],h3[i,0],h4[i,0],h5[i,0],h6[i,0],h7[i,0],h8[i,0],h9[i,0])==h0[i,0]):\n",
        "    predict[i,0]=0\n",
        "  elif (max(h0[i,0],h1[i,0],h2[i,0],h3[i,0],h4[i,0],h5[i,0],h6[i,0],h7[i,0],h8[i,0],h9[i,0])==h1[i,0]):\n",
        "    predict[i,0]=1\n",
        "  elif (max(h0[i,0],h1[i,0],h2[i,0],h3[i,0],h4[i,0],h5[i,0],h6[i,0],h7[i,0],h8[i,0],h9[i,0])==h2[i,0]):\n",
        "    predict[i,0]=2\n",
        "  elif (max(h0[i,0],h1[i,0],h2[i,0],h3[i,0],h4[i,0],h5[i,0],h6[i,0],h7[i,0],h8[i,0],h9[i,0])==h3[i,0]):\n",
        "    predict[i,0]=3\n",
        "  elif (max(h0[i,0],h1[i,0],h2[i,0],h3[i,0],h4[i,0],h5[i,0],h6[i,0],h7[i,0],h8[i,0],h9[i,0])==h4[i,0]):\n",
        "    predict[i,0]=4\n",
        "  elif (max(h0[i,0],h1[i,0],h2[i,0],h3[i,0],h4[i,0],h5[i,0],h6[i,0],h7[i,0],h8[i,0],h9[i,0])==h5[i,0]):\n",
        "    predict[i,0]=5\n",
        "  elif (max(h0[i,0],h1[i,0],h2[i,0],h3[i,0],h4[i,0],h5[i,0],h6[i,0],h7[i,0],h8[i,0],h9[i,0])==h6[i,0]):\n",
        "    predict[i,0]=6\n",
        "  elif (max(h0[i,0],h1[i,0],h2[i,0],h3[i,0],h4[i,0],h5[i,0],h6[i,0],h7[i,0],h8[i,0],h9[i,0])==h7[i,0]):\n",
        "    predict[i,0]=7\n",
        "  elif (max(h0[i,0],h1[i,0],h2[i,0],h3[i,0],h4[i,0],h5[i,0],h6[i,0],h7[i,0],h8[i,0],h9[i,0])==h8[i,0]):\n",
        "    predict[i,0]=8\n",
        "  elif (max(h0[i,0],h1[i,0],h2[i,0],h3[i,0],h4[i,0],h5[i,0],h6[i,0],h7[i,0],h8[i,0],h9[i,0])==h9[i,0]):\n",
        "    predict[i,0]=9\n"
      ],
      "execution_count": 29,
      "outputs": []
    },
    {
      "cell_type": "code",
      "metadata": {
        "colab": {
          "base_uri": "https://localhost:8080/"
        },
        "id": "cqGlcP1QRqmK",
        "outputId": "1a133b59-9ed4-4cec-c7cc-505c8cb1fb40"
      },
      "source": [
        "#here we calculate the accuracy\n",
        "#accuracy=((total sample-wrong predicted samples)/(total samples))*100\n",
        "count=0\n",
        "for i in range(9999):\n",
        "  if(int(predict[i,0])!=y_test[i,0]):\n",
        "    count+=1\n",
        "accuracy=((10000-count)/10000)*100\n",
        "print(\"the accuracy of the model is:\",accuracy,\"%\")"
      ],
      "execution_count": 30,
      "outputs": [
        {
          "output_type": "stream",
          "text": [
            "the accuracy of the model is: 85.35000000000001 %\n"
          ],
          "name": "stdout"
        }
      ]
    },
    {
      "cell_type": "code",
      "metadata": {
        "colab": {
          "base_uri": "https://localhost:8080/"
        },
        "id": "W3Lo8WGPWXVl",
        "outputId": "11c2a697-6548-4dfa-9cb5-6b869c31120e"
      },
      "source": [
        "print(\"Predicted values\",\"Actual values\")\n",
        "for i in range(20):\n",
        "  print(int(predict[i,0]),y_test[i,0])"
      ],
      "execution_count": 31,
      "outputs": [
        {
          "output_type": "stream",
          "text": [
            "Predicted values Actual values\n",
            "2 2\n",
            "1 1\n",
            "0 0\n",
            "4 4\n",
            "1 1\n",
            "4 4\n",
            "9 9\n",
            "4 5\n",
            "9 9\n",
            "0 0\n",
            "4 6\n",
            "9 9\n",
            "0 0\n",
            "1 1\n",
            "5 5\n",
            "9 9\n",
            "7 7\n",
            "3 3\n",
            "4 4\n",
            "9 9\n"
          ],
          "name": "stdout"
        }
      ]
    },
    {
      "cell_type": "code",
      "metadata": {
        "id": "xagdfOATxgcf"
      },
      "source": [
        ""
      ],
      "execution_count": null,
      "outputs": []
    }
  ]
}