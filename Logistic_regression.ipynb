{
  "nbformat": 4,
  "nbformat_minor": 0,
  "metadata": {
    "colab": {
      "name": "new.ipynb",
      "provenance": [],
      "collapsed_sections": []
    },
    "kernelspec": {
      "name": "python3",
      "display_name": "Python 3"
    },
    "language_info": {
      "name": "python"
    }
  },
  "cells": [
    {
      "cell_type": "code",
      "metadata": {
        "id": "sTaBWuNxhe-m"
      },
      "source": [
        "import numpy as np\n",
        "import pandas as pd\n",
        "import matplotlib.pyplot as plt #importing all necessary libraries\n",
        "import math as mt"
      ],
      "execution_count": 1,
      "outputs": []
    },
    {
      "cell_type": "code",
      "metadata": {
        "id": "IYt9HiDIhfim"
      },
      "source": [
        "train_data=pd.read_csv(\"sample_data/mnist_train_small.csv\") #importing train data\n",
        "test_data=pd.read_csv(\"sample_data/mnist_test.csv\") #importing test data"
      ],
      "execution_count": 2,
      "outputs": []
    },
    {
      "cell_type": "code",
      "metadata": {
        "id": "GUmclsKZhmCM"
      },
      "source": [
        "a=np.array(train_data)\n",
        "b=np.array(test_data)  #converting datasets to array"
      ],
      "execution_count": 4,
      "outputs": []
    },
    {
      "cell_type": "code",
      "metadata": {
        "id": "z11NPVQUhnq5"
      },
      "source": [
        "y=np.zeros((10,19999,1))\n",
        "y_train=a[0:,[0]]"
      ],
      "execution_count": 5,
      "outputs": []
    },
    {
      "cell_type": "code",
      "metadata": {
        "id": "uixgWxWNhpvY"
      },
      "source": [
        "#Here we create a 3d matrix where the first index represents class.We modify the code,so that a particular class is made as positive and all\n",
        "#other classes are made negative class in a particular index\n",
        "for i in range(10):\n",
        "  for j in range(19999):\n",
        "    if(y_train[j,0]==i):\n",
        "      y[i,j,0]=1\n",
        "    else:\n",
        "      y[i,j,0]=0"
      ],
      "execution_count": 6,
      "outputs": []
    },
    {
      "cell_type": "code",
      "metadata": {
        "id": "COrtip5AiHnp"
      },
      "source": [
        "x_train=a[0:,1:] #extracting x from the training dataset\n",
        "y_test=b[0:,[0]] #extracting output data from test data\n",
        "x_test=b[0:,1:] #extracting test x from test dataset"
      ],
      "execution_count": 7,
      "outputs": []
    },
    {
      "cell_type": "code",
      "metadata": {
        "id": "cRyX4d8Njtia"
      },
      "source": [
        "#This is the main function of our logistic regression;We take x(train data),y(train label),alpha(learning rate) and m(total samples) as input \n",
        "#and return theta(weight) as output\n",
        "iterations_count=[]\n",
        "cost_count=[]\n",
        "def logistic_regression(x,y,alpha,iterations,m):\n",
        "  theta=np.zeros((10,784,1))\n",
        "  for i in range(iterations):    \n",
        "    theta=theta-(alpha/m)*(np.matmul((1/(1+np.exp(-np.matmul(x,theta)))-y).transpose(0,2,1),x)).transpose(0,2,1)\n",
        "    h=1/(1+np.exp(-np.matmul(x,theta)))\n",
        "    cost=-(1/20000)*np.sum(np.matmul(y.transpose(0,2,1),np.log(h))-np.matmul((1-y).transpose(0,2,1),np.log(1-h)))\n",
        "    iterations_count.append(i)\n",
        "    cost_count.append(abs(cost))\n",
        "    if (i%1000==0):\n",
        "      print(\"The cost after \",i,\" iterations:\",cost)\n",
        "  print(abs(cost))\n",
        "  return theta"
      ],
      "execution_count": 11,
      "outputs": []
    },
    {
      "cell_type": "code",
      "metadata": {
        "id": "H2LySLqBlr6F"
      },
      "source": [
        "x=np.zeros((10,19999,784)) #creating a matrix for training data\n",
        "for i in range(10):\n",
        "  x[i]=a[0:,1:]"
      ],
      "execution_count": 12,
      "outputs": []
    },
    {
      "cell_type": "code",
      "metadata": {
        "id": "LaVaBdtfmAjK",
        "colab": {
          "base_uri": "https://localhost:8080/"
        },
        "outputId": "473bb7d1-8bed-446a-dd11-34f29403732e"
      },
      "source": [
        "q=logistic_regression(x,y,0.00000007,5000,19999) #Getting the value of theta from our model"
      ],
      "execution_count": 13,
      "outputs": [
        {
          "output_type": "stream",
          "text": [
            "The cost after  0  iterations: -5.230011090292149\n",
            "The cost after  1000  iterations: 0.19507317089795054\n",
            "The cost after  2000  iterations: 0.1518859227016532\n",
            "The cost after  3000  iterations: 0.14106607944993452\n",
            "The cost after  4000  iterations: 0.1362644125268231\n",
            "0.1335466486524734\n"
          ],
          "name": "stdout"
        }
      ]
    },
    {
      "cell_type": "code",
      "metadata": {
        "id": "ND98RZrtvLzc"
      },
      "source": [
        "#Calculating the probability of the test dataset of belonging to a particular class(sigmoid function)\n",
        "#The final prediction will be that class which has max probability\n",
        "h=1/(1+np.exp(-np.matmul(x_test,q)))\n",
        "predict=np.ones((9999,1))\n",
        "for i in range(9999):\n",
        "  m=[]\n",
        "  for j in range(10):\n",
        "    m.append(h[j,i,0])\n",
        "  predict[i,0]=m.index(np.max(m))  "
      ],
      "execution_count": 33,
      "outputs": []
    },
    {
      "cell_type": "code",
      "metadata": {
        "colab": {
          "base_uri": "https://localhost:8080/",
          "height": 283
        },
        "id": "qpqY8W_Qhhof",
        "outputId": "fe2d8844-b7fc-461a-e30d-c2861b4e43b3"
      },
      "source": [
        "#A plot of cost vs number of iterations to ensure the proper working of our model\n",
        "plt.plot(iterations_count,cost_count)"
      ],
      "execution_count": 34,
      "outputs": [
        {
          "output_type": "execute_result",
          "data": {
            "text/plain": [
              "[<matplotlib.lines.Line2D at 0x7fb2cab6ccd0>]"
            ]
          },
          "metadata": {
            "tags": []
          },
          "execution_count": 34
        },
        {
          "output_type": "display_data",
          "data": {
            "image/png": "[encoded data removed]",
            "text/plain": [
              "<Figure size 432x288 with 1 Axes>"
            ]
          },
          "metadata": {
            "tags": [],
            "needs_background": "light"
          }
        }
      ]
    },
    {
      "cell_type": "code",
      "metadata": {
        "colab": {
          "base_uri": "https://localhost:8080/"
        },
        "id": "K1kOaN_a0dBX",
        "outputId": "03a1613e-56d6-4481-87d4-24464cd9c736"
      },
      "source": [
        "print(\"Actual value \",\"Predicted value\")\n",
        "for i in range(20,35):\n",
        "  print(y_test[i,0],int(predict[i,0]))"
      ],
      "execution_count": 35,
      "outputs": [
        {
          "output_type": "stream",
          "text": [
            "Actual value  Predicted value\n",
            "6 6\n",
            "6 6\n",
            "5 5\n",
            "4 4\n",
            "0 0\n",
            "7 7\n",
            "4 4\n",
            "0 0\n",
            "1 1\n",
            "3 3\n",
            "1 1\n",
            "3 3\n",
            "4 0\n",
            "7 7\n",
            "2 2\n"
          ],
          "name": "stdout"
        }
      ]
    },
    {
      "cell_type": "code",
      "metadata": {
        "colab": {
          "base_uri": "https://localhost:8080/"
        },
        "id": "B3uJtxPU4hOz",
        "outputId": "21a8b90f-fe81-4521-df2f-03368645236e"
      },
      "source": [
        "#Accuracy=((total samples-wrong predictions)/total samples)*100\n",
        "count=0\n",
        "for i in range(9999):\n",
        "  if(y_test[i,0]!=int(predict[i,0])):\n",
        "    count+=1\n",
        "accuracy=((9999-count)/9999)*100\n",
        "print(\"The accuracy of the model is:\",accuracy,\"%\")"
      ],
      "execution_count": 37,
      "outputs": [
        {
          "output_type": "stream",
          "text": [
            "The accuracy of the model is: 87.21872187218722 %\n"
          ],
          "name": "stdout"
        }
      ]
    },
    {
      "cell_type": "code",
      "metadata": {
        "id": "YvNxDHt9pP5D"
      },
      "source": [
        ""
      ],
      "execution_count": null,
      "outputs": []
    }
  ]
}